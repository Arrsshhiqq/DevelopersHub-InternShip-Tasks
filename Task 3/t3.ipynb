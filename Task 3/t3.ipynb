{
 "cells": [
  {
   "cell_type": "markdown",
   "id": "aa644b89",
   "metadata": {},
   "source": [
    "Task 3:Heart Diesease Prediction"
   ]
  },
  {
   "cell_type": "code",
   "execution_count": null,
   "id": "b0554860",
   "metadata": {},
   "outputs": [],
   "source": [
    "import pandas as pd"
   ]
  }
 ],
 "metadata": {
  "kernelspec": {
   "display_name": "Python 3",
   "language": "python",
   "name": "python3"
  },
  "language_info": {
   "name": "python",
   "version": "3.13.3"
  }
 },
 "nbformat": 4,
 "nbformat_minor": 5
}
